{
 "cells": [
  {
   "cell_type": "markdown",
   "id": "f62844c2",
   "metadata": {},
   "source": [
    "# Nettoyage des données de pollution atmosphérique\n",
    "\n",
    "Ce notebook effectue un nettoyage des fichiers CSV en filtrant uniquement les lignes où la colonne 'Zas' est égale à 'ZAG PARIS'. Les fichiers nettoyés seront sauvegardés dans un nouveau dossier."
   ]
  },
  {
   "cell_type": "code",
   "execution_count": null,
   "id": "172ee5c3",
   "metadata": {},
   "outputs": [],
   "source": [
    "# Import Required Libraries\n",
    "import os\n",
    "import pandas as pd\n",
    "\n",
    "# Chemins des dossiers\n",
    "input_folders = ['./data/2023/', './data/2024/', './data/2025/']\n",
    "output_folders = ['./data/2023_cleaned/', './data/2024_cleaned/', './data/2025_cleaned/']\n",
    "\n",
    "# Créer les dossiers de sortie s'ils n'existent pas\n",
    "for output_folder in output_folders:\n",
    "    if not os.path.exists(output_folder):\n",
    "        os.makedirs(output_folder)"
   ]
  },
  {
   "cell_type": "code",
   "execution_count": null,
   "id": "db5f2944",
   "metadata": {},
   "outputs": [],
   "source": [
    "# Parcourir tous les dossiers d'entrée\n",
    "for input_folder, output_folder in zip(input_folders, output_folders):\n",
    "    for file_name in os.listdir(input_folder):\n",
    "        if file_name.endswith('.csv'):\n",
    "            input_path = os.path.join(input_folder, file_name)\n",
    "            output_path = os.path.join(output_folder, file_name)\n",
    "\n",
    "            # Charger le fichier CSV\n",
    "            data = pd.read_csv(input_path, sep=';', encoding='utf-8')\n",
    "\n",
    "            # Filtrer les lignes où 'Zas' est égal à 'ZAG PARIS'\n",
    "            filtered_data = data[data['Zas'] == 'ZAG PARIS']\n",
    "\n",
    "            # Sauvegarder le fichier nettoyé\n",
    "            filtered_data.to_csv(output_path, sep=';', index=False, encoding='utf-8')\n",
    "            print(f\"Fichier nettoyé sauvegardé : {output_path}\")"
   ]
  }
 ],
 "metadata": {
  "language_info": {
   "name": "python"
  }
 },
 "nbformat": 4,
 "nbformat_minor": 5
}
